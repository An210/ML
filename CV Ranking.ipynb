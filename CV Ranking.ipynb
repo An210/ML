{
  "nbformat": 4,
  "nbformat_minor": 0,
  "metadata": {
    "colab": {
      "provenance": [],
      "authorship_tag": "ABX9TyOL8Uisgx8cRuQVqSH9AmGf",
      "include_colab_link": true
    },
    "kernelspec": {
      "name": "python3",
      "display_name": "Python 3"
    },
    "language_info": {
      "name": "python"
    }
  },
  "cells": [
    {
      "cell_type": "markdown",
      "metadata": {
        "id": "view-in-github",
        "colab_type": "text"
      },
      "source": [
        "<a href=\"https://colab.research.google.com/github/An210/ML/blob/main/CV%20Ranking.ipynb\" target=\"_parent\"><img src=\"https://colab.research.google.com/assets/colab-badge.svg\" alt=\"Open In Colab\"/></a>"
      ]
    },
    {
      "cell_type": "code",
      "execution_count": null,
      "metadata": {
        "id": "aPj7Y3V2y_FY"
      },
      "outputs": [],
      "source": [
        "!pip install pdfplumber\n",
        "\n",
        "import pdfplumber\n",
        "import re\n",
        "import os\n",
        "import openpyxl"
      ]
    },
    {
      "cell_type": "code",
      "source": [
        "\n",
        "\n",
        "# Function to clean the extracted text\n",
        "def clean_text(text):\n",
        "    # Remove multiple spaces, newlines, etc.\n",
        "    text = re.sub(r'\\s+', ' ', text)  # Collapse multiple whitespaces into one\n",
        "    text = text.strip()  # Remove leading/trailing spaces\n",
        "    return text\n",
        "\n",
        "# Function to extract text from a PDF file\n",
        "def extract_text_from_pdf(pdf_path):\n",
        "    text = \"\"\n",
        "    with pdfplumber.open(pdf_path) as pdf:\n",
        "        # Extract text from all pages\n",
        "        for page in pdf.pages:\n",
        "            text += page.extract_text()\n",
        "    return text\n",
        "\n",
        "# Function to save extracted data into an Excel file\n",
        "def save_to_excel(data, output_path):\n",
        "    # Create a new Excel workbook and sheet\n",
        "    wb = openpyxl.Workbook()\n",
        "    ws = wb.active\n",
        "    ws.title = \"CV Texts\"\n",
        "\n",
        "    # Write the header\n",
        "    ws.append([\"File Name\", \"Extracted Text\"])  # Column headers\n",
        "\n",
        "    # Write each PDF's name and extracted text into a row\n",
        "    for file_name, text in data.items():\n",
        "        ws.append([file_name, text])\n",
        "\n",
        "    # Save the workbook\n",
        "    wb.save(output_path)\n",
        "\n",
        "# Main function to process all PDF files in a folder\n",
        "def process_pdfs_in_folder(folder_path, excel_output_path):\n",
        "    extracted_data = {}\n",
        "\n",
        "    # Loop over all files in the folder\n",
        "    for filename in os.listdir(folder_path):\n",
        "        if filename.endswith('.pdf'):  # Process only PDF files\n",
        "            pdf_path = os.path.join(folder_path, filename)\n",
        "\n",
        "            # Extract text from the current PDF file\n",
        "            extracted_text = extract_text_from_pdf(pdf_path)\n",
        "\n",
        "            # Clean the extracted text\n",
        "            cleaned_text = clean_text(extracted_text)\n",
        "\n",
        "            # Store the extracted data (file name as key, cleaned text as value)\n",
        "            extracted_data[filename] = cleaned_text\n",
        "\n",
        "    # Save all extracted data to an Excel file\n",
        "    save_to_excel(extracted_data, excel_output_path)\n",
        "    print(f\"Text extracted and saved to {excel_output_path}\")\n",
        "\n",
        "# Specify your folder path containing the PDFs and the output Excel file path\n",
        "folder_path = '/content/CV/'\n",
        "excel_output_path = '/content/CV Text.xlsx'  # Output path for the Excel file\n",
        "\n",
        "# Run the process\n",
        "process_pdfs_in_folder(folder_path, excel_output_path)\n"
      ],
      "metadata": {
        "id": "HKNoUZDrzBMh"
      },
      "execution_count": null,
      "outputs": []
    }
  ]
}