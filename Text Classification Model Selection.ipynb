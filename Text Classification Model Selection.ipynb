{
  "nbformat": 4,
  "nbformat_minor": 0,
  "metadata": {
    "colab": {
      "provenance": [],
      "authorship_tag": "ABX9TyPm5RsWlOWRdW+pMTdrEqiI",
      "include_colab_link": true
    },
    "kernelspec": {
      "name": "python3",
      "display_name": "Python 3"
    },
    "language_info": {
      "name": "python"
    }
  },
  "cells": [
    {
      "cell_type": "markdown",
      "metadata": {
        "id": "view-in-github",
        "colab_type": "text"
      },
      "source": [
        "<a href=\"https://colab.research.google.com/github/An210/ML/blob/main/Text%20Classification%20Model%20Selection.ipynb\" target=\"_parent\"><img src=\"https://colab.research.google.com/assets/colab-badge.svg\" alt=\"Open In Colab\"/></a>"
      ]
    },
    {
      "cell_type": "markdown",
      "source": [
        "# Ticket Assignment - KNN model training\n"
      ],
      "metadata": {
        "id": "tgSgoZtzwBdx"
      }
    },
    {
      "cell_type": "code",
      "execution_count": 6,
      "metadata": {
        "colab": {
          "base_uri": "https://localhost:8080/"
        },
        "id": "VVwWMgmkvU_3",
        "outputId": "8df7827a-d8b5-446c-ec35-cf70fe9fa320"
      },
      "outputs": [
        {
          "output_type": "stream",
          "name": "stdout",
          "text": [
            "Requirement already satisfied: nltk in /usr/local/lib/python3.10/dist-packages (3.9.1)\n",
            "Requirement already satisfied: click in /usr/local/lib/python3.10/dist-packages (from nltk) (8.1.7)\n",
            "Requirement already satisfied: joblib in /usr/local/lib/python3.10/dist-packages (from nltk) (1.4.2)\n",
            "Requirement already satisfied: regex>=2021.8.3 in /usr/local/lib/python3.10/dist-packages (from nltk) (2024.9.11)\n",
            "Requirement already satisfied: tqdm in /usr/local/lib/python3.10/dist-packages (from nltk) (4.66.6)\n"
          ]
        },
        {
          "output_type": "stream",
          "name": "stderr",
          "text": [
            "[nltk_data] Downloading package wordnet to /root/nltk_data...\n",
            "[nltk_data]   Package wordnet is already up-to-date!\n",
            "[nltk_data] Downloading package punkt to /root/nltk_data...\n",
            "[nltk_data]   Package punkt is already up-to-date!\n",
            "[nltk_data] Downloading package averaged_perceptron_tagger_eng to\n",
            "[nltk_data]     /root/nltk_data...\n",
            "[nltk_data]   Unzipping taggers/averaged_perceptron_tagger_eng.zip.\n",
            "[nltk_data] Downloading package punkt_tab to /root/nltk_data...\n",
            "[nltk_data]   Package punkt_tab is already up-to-date!\n"
          ]
        },
        {
          "output_type": "stream",
          "name": "stdout",
          "text": [
            "Running GridSearchCV for KNN...\n",
            "Fitting 5 folds for each of 24 candidates, totalling 120 fits\n"
          ]
        },
        {
          "output_type": "stream",
          "name": "stderr",
          "text": [
            "/usr/local/lib/python3.10/dist-packages/sklearn/model_selection/_search.py:1103: UserWarning: One or more of the test scores are non-finite: [0.88611111 0.88611111 0.78611111 0.86111111 0.73888889 0.90833333\n",
            " 0.53611111 0.86111111        nan 0.83611111        nan 0.83611111\n",
            "        nan 0.76666667        nan 0.71944444 0.88611111 0.88611111\n",
            " 0.78611111 0.86111111 0.73888889 0.90833333 0.53611111 0.86111111]\n",
            "  warnings.warn(\n"
          ]
        },
        {
          "output_type": "stream",
          "name": "stdout",
          "text": [
            "Running GridSearchCV for SVM...\n",
            "Fitting 5 folds for each of 18 candidates, totalling 90 fits\n",
            "Running GridSearchCV for DecisionTree...\n",
            "Fitting 5 folds for each of 8 candidates, totalling 40 fits\n",
            "Running GridSearchCV for RandomForest...\n",
            "Fitting 5 folds for each of 18 candidates, totalling 90 fits\n",
            "Results for KNN:\n",
            "Best Parameters: {'metric': 'euclidean', 'n_neighbors': 7, 'weights': 'distance'}\n",
            "Best Cross-Validation Score: 0.9083333333333332\n",
            "Test Accuracy: 1.0\n",
            "----------------------------------------\n",
            "Results for SVM:\n",
            "Best Parameters: {'C': 1, 'gamma': 'scale', 'kernel': 'rbf'}\n",
            "Best Cross-Validation Score: 0.8861111111111111\n",
            "Test Accuracy: 1.0\n",
            "----------------------------------------\n",
            "Results for DecisionTree:\n",
            "Best Parameters: {'criterion': 'gini', 'max_depth': 10}\n",
            "Best Cross-Validation Score: 0.836111111111111\n",
            "Test Accuracy: 0.8181818181818182\n",
            "----------------------------------------\n",
            "Results for RandomForest:\n",
            "Best Parameters: {'criterion': 'gini', 'max_depth': None, 'n_estimators': 50}\n",
            "Best Cross-Validation Score: 0.8583333333333332\n",
            "Test Accuracy: 1.0\n",
            "----------------------------------------\n"
          ]
        }
      ],
      "source": [
        "!pip install nltk\n",
        "\n",
        "import pandas as pd\n",
        "import numpy as np\n",
        "import nltk\n",
        "from sklearn.model_selection import train_test_split, GridSearchCV\n",
        "from sklearn.neighbors import KNeighborsClassifier\n",
        "from sklearn.svm import SVC\n",
        "from sklearn.tree import DecisionTreeClassifier\n",
        "from sklearn.ensemble import RandomForestClassifier\n",
        "from sklearn.metrics import accuracy_score\n",
        "from sklearn.feature_extraction.text import TfidfVectorizer\n",
        "from nltk.corpus import wordnet\n",
        "\n",
        "# Download required NLTK resources\n",
        "nltk.download('wordnet')\n",
        "nltk.download('punkt')\n",
        "nltk.download('averaged_perceptron_tagger_eng')\n",
        "nltk.download('punkt_tab')\n",
        "\n",
        "\n",
        "def augment_text(text, num_aug=1):\n",
        "    \"\"\"Augments text using synonym replacement.\"\"\"\n",
        "    augmented_texts = [text]  # Start with original text\n",
        "    for _ in range(num_aug):\n",
        "        tokens = nltk.word_tokenize(text)\n",
        "        pos_tags = nltk.pos_tag(tokens)\n",
        "\n",
        "        new_tokens = []\n",
        "        for token, pos_tag in pos_tags:\n",
        "            synonyms = []\n",
        "            for syn in wordnet.synsets(token):\n",
        "                for lemma in syn.lemmas():\n",
        "                    synonyms.append(lemma.name())\n",
        "\n",
        "            if synonyms and pos_tag.startswith(('N', 'V', 'J', 'R')):  # Augment nouns, verbs, adjectives, adverbs\n",
        "                new_token = np.random.choice(synonyms, 1)[0]\n",
        "            else:\n",
        "                new_token = token\n",
        "\n",
        "            new_tokens.append(new_token)\n",
        "\n",
        "        augmented_texts.append(\" \".join(new_tokens))\n",
        "\n",
        "    return augmented_texts\n",
        "\n",
        "# Read the Excel file into a pandas DataFrame\n",
        "df = pd.read_csv(\"/content/Train1.csv\")\n",
        "\n",
        "# Extract the text data and labels from the DataFrame\n",
        "text_data = df[\"Data\"].tolist()\n",
        "labels = df[\"Label\"].tolist()\n",
        "\n",
        "# Data Augmentation\n",
        "augmented_text_data = []\n",
        "augmented_labels = []\n",
        "for text, label in zip(text_data, labels):\n",
        "    augmented_texts = augment_text(text, num_aug=5)  # Generate augmented texts per original text\n",
        "    augmented_text_data.extend(augmented_texts)\n",
        "    augmented_labels.extend([label] * len(augmented_texts))\n",
        "\n",
        "# 1. TF-IDF Feature Extraction\n",
        "vectorizer = TfidfVectorizer()\n",
        "X = vectorizer.fit_transform(augmented_text_data)\n",
        "X = np.nan_to_num(X.toarray())  # Replace NaN and infinite values with finite numbers\n",
        "\n",
        "# 2. Split the data into training and testing sets\n",
        "X_train, X_test, y_train, y_test = train_test_split(\n",
        "    X, augmented_labels, test_size=0.2, random_state=42\n",
        ")\n",
        "\n",
        "# 3. Define models and parameter grids\n",
        "models = {\n",
        "    \"KNN\": (KNeighborsClassifier(), {\n",
        "        'n_neighbors': [3, 5, 7, 9],\n",
        "        'weights': ['uniform', 'distance'],\n",
        "        'metric': ['euclidean', 'manhattan', 'minkowski']\n",
        "    }),\n",
        "    \"SVM\": (SVC(), {\n",
        "        'C': [0.1, 1, 10],\n",
        "        'kernel': ['linear', 'rbf', 'poly'],\n",
        "        'gamma': ['scale', 'auto']\n",
        "    }),\n",
        "    \"DecisionTree\": (DecisionTreeClassifier(), {\n",
        "        'criterion': ['gini', 'entropy'],\n",
        "        'max_depth': [None, 10, 20, 30]\n",
        "    }),\n",
        "    \"RandomForest\": (RandomForestClassifier(), {\n",
        "        'n_estimators': [50, 100, 200],\n",
        "        'criterion': ['gini', 'entropy'],\n",
        "        'max_depth': [None, 10, 20]\n",
        "    })\n",
        "}\n",
        "\n",
        "# 4. Loop through models and perform grid search\n",
        "results = {}\n",
        "for model_name, (model, param_grid) in models.items():\n",
        "    print(f\"Running GridSearchCV for {model_name}...\")\n",
        "    grid_search = GridSearchCV(\n",
        "        estimator=model,\n",
        "        param_grid=param_grid,\n",
        "        scoring='accuracy',\n",
        "        cv=5,\n",
        "        verbose=1,\n",
        "        n_jobs=-1\n",
        "    )\n",
        "    grid_search.fit(X_train, y_train)\n",
        "\n",
        "    # Store the best results\n",
        "    best_params = grid_search.best_params_\n",
        "    best_score = grid_search.best_score_\n",
        "    results[model_name] = {\n",
        "        \"Best Parameters\": best_params,\n",
        "        \"Best Cross-Validation Score\": best_score\n",
        "    }\n",
        "\n",
        "    # Train the best model and evaluate on test data\n",
        "    best_model = grid_search.best_estimator_\n",
        "    best_model.fit(X_train, y_train)\n",
        "    y_pred = best_model.predict(X_test)\n",
        "    test_accuracy = accuracy_score(y_test, y_pred)\n",
        "    results[model_name][\"Test Accuracy\"] = test_accuracy\n",
        "\n",
        "# 5. Print results for each model\n",
        "for model_name, result in results.items():\n",
        "    print(f\"Results for {model_name}:\")\n",
        "    print(f\"Best Parameters: {result['Best Parameters']}\")\n",
        "    print(f\"Best Cross-Validation Score: {result['Best Cross-Validation Score']}\")\n",
        "    print(f\"Test Accuracy: {result['Test Accuracy']}\")\n",
        "    print(\"-\" * 40)\n"
      ]
    },
    {
      "cell_type": "markdown",
      "source": [
        "# Test Case"
      ],
      "metadata": {
        "id": "XzJtrqZFwSlk"
      }
    },
    {
      "cell_type": "code",
      "source": [
        "def predict_new_data(new_data, vectorizer, model):\n",
        "    \"\"\"Predicts labels for new data using the trained model.\n",
        "\n",
        "    Args:\n",
        "        new_data (list): A list of text strings representing the new data.\n",
        "        vectorizer (TfidfVectorizer): The trained TF-IDF vectorizer.\n",
        "        model (KNeighborsClassifier): The trained KNN model.\n",
        "\n",
        "    Returns:\n",
        "        list: The predicted labels for the new data.\n",
        "    \"\"\"\n",
        "    # 1. Transform new data using the trained vectorizer\n",
        "    new_data_tfidf = vectorizer.transform(new_data)\n",
        "\n",
        "    # 2. Make predictions using the trained model\n",
        "    predictions = model.predict(new_data_tfidf)\n",
        "\n",
        "    return predictions\n",
        "\n",
        "\n",
        "# Example usage:\n",
        "new_data = [\n",
        "    \"This is a new server request\",\n",
        "    \"Need help with Power BI\",\n",
        "    \"Database issue\",\n",
        "]\n",
        "\n",
        "print(\"Best model:\", best_model)\n",
        "predicted_labels = predict_new_data(new_data, vectorizer, best_model)\n",
        "\n",
        "print(\"New data:\", new_data)\n",
        "print(\"Predicted labels:\", predicted_labels)"
      ],
      "metadata": {
        "colab": {
          "base_uri": "https://localhost:8080/"
        },
        "id": "blCDSfspvleC",
        "outputId": "301cfdbd-a295-4315-d224-6c4cec315e74"
      },
      "execution_count": 10,
      "outputs": [
        {
          "output_type": "stream",
          "name": "stdout",
          "text": [
            "Best model: RandomForestClassifier(n_estimators=50)\n",
            "New data: ['This is a new server request', 'Need help with Power BI', 'Database issue']\n",
            "Predicted labels: ['IT' 'D&A' 'D&A']\n"
          ]
        }
      ]
    }
  ]
}