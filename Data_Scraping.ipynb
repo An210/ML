{
  "nbformat": 4,
  "nbformat_minor": 0,
  "metadata": {
    "colab": {
      "provenance": [],
      "authorship_tag": "ABX9TyP3Ph1fmmp6zvTGDRAu4GQn",
      "include_colab_link": true
    },
    "kernelspec": {
      "name": "python3",
      "display_name": "Python 3"
    },
    "language_info": {
      "name": "python"
    }
  },
  "cells": [
    {
      "cell_type": "markdown",
      "metadata": {
        "id": "view-in-github",
        "colab_type": "text"
      },
      "source": [
        "<a href=\"https://colab.research.google.com/github/An210/ML/blob/main/Data_Scraping.ipynb\" target=\"_parent\"><img src=\"https://colab.research.google.com/assets/colab-badge.svg\" alt=\"Open In Colab\"/></a>"
      ]
    },
    {
      "cell_type": "code",
      "execution_count": 5,
      "metadata": {
        "colab": {
          "base_uri": "https://localhost:8080/",
          "height": 335
        },
        "id": "SjmXsNNs4XIT",
        "outputId": "88dad7c6-f5fc-4f30-eb10-5481d1df2a9e"
      },
      "outputs": [
        {
          "output_type": "stream",
          "name": "stdout",
          "text": [
            "{'code': 0, 'msg': \"Service unavailable from a restricted location according to 'b. Eligibility' in https://www.binance.com/en/terms. Please contact customer service if you believe you received this message in error.\"}\n"
          ]
        },
        {
          "output_type": "error",
          "ename": "KeyError",
          "evalue": "'Bid'",
          "traceback": [
            "\u001b[0;31m---------------------------------------------------------------------------\u001b[0m",
            "\u001b[0;31mKeyError\u001b[0m                                  Traceback (most recent call last)",
            "\u001b[0;32m<ipython-input-5-199ffbb73f92>\u001b[0m in \u001b[0;36m<cell line: 21>\u001b[0;34m()\u001b[0m\n\u001b[1;32m     19\u001b[0m     \u001b[0;32mreturn\u001b[0m \u001b[0mpd\u001b[0m\u001b[0;34m.\u001b[0m\u001b[0mDataFrame\u001b[0m\u001b[0;34m(\u001b[0m\u001b[0;34m{\u001b[0m\u001b[0;34m'Bid'\u001b[0m\u001b[0;34m:\u001b[0m \u001b[0;34m[\u001b[0m\u001b[0mbid\u001b[0m\u001b[0;34m]\u001b[0m\u001b[0;34m,\u001b[0m \u001b[0;34m'Bid_Quantity'\u001b[0m\u001b[0;34m:\u001b[0m \u001b[0;34m[\u001b[0m\u001b[0mbid_quantity\u001b[0m\u001b[0;34m]\u001b[0m\u001b[0;34m,\u001b[0m \u001b[0;34m'Ask'\u001b[0m\u001b[0;34m:\u001b[0m \u001b[0;34m[\u001b[0m\u001b[0mask\u001b[0m\u001b[0;34m]\u001b[0m\u001b[0;34m,\u001b[0m \u001b[0;34m'Ask_Quantity'\u001b[0m\u001b[0;34m:\u001b[0m \u001b[0;34m[\u001b[0m\u001b[0mask_quantity\u001b[0m\u001b[0;34m]\u001b[0m\u001b[0;34m,\u001b[0m \u001b[0;34m'Timestamp'\u001b[0m\u001b[0;34m:\u001b[0m \u001b[0;34m[\u001b[0m\u001b[0mtimestamp\u001b[0m\u001b[0;34m]\u001b[0m\u001b[0;34m}\u001b[0m\u001b[0;34m)\u001b[0m\u001b[0;34m\u001b[0m\u001b[0;34m\u001b[0m\u001b[0m\n\u001b[1;32m     20\u001b[0m \u001b[0;34m\u001b[0m\u001b[0m\n\u001b[0;32m---> 21\u001b[0;31m \u001b[0morder_book_data\u001b[0m \u001b[0;34m=\u001b[0m \u001b[0mget_order_book\u001b[0m\u001b[0;34m(\u001b[0m\u001b[0;34m)\u001b[0m\u001b[0;34m\u001b[0m\u001b[0;34m\u001b[0m\u001b[0m\n\u001b[0m",
            "\u001b[0;32m<ipython-input-5-199ffbb73f92>\u001b[0m in \u001b[0;36mget_order_book\u001b[0;34m()\u001b[0m\n\u001b[1;32m     12\u001b[0m     \u001b[0mdata\u001b[0m \u001b[0;34m=\u001b[0m \u001b[0mresponse\u001b[0m\u001b[0;34m.\u001b[0m\u001b[0mjson\u001b[0m\u001b[0;34m(\u001b[0m\u001b[0;34m)\u001b[0m\u001b[0;34m\u001b[0m\u001b[0;34m\u001b[0m\u001b[0m\n\u001b[1;32m     13\u001b[0m     \u001b[0mprint\u001b[0m\u001b[0;34m(\u001b[0m\u001b[0mdata\u001b[0m\u001b[0;34m)\u001b[0m  \u001b[0;31m# Print the JSON response\u001b[0m\u001b[0;34m\u001b[0m\u001b[0;34m\u001b[0m\u001b[0m\n\u001b[0;32m---> 14\u001b[0;31m     \u001b[0mbid\u001b[0m \u001b[0;34m=\u001b[0m \u001b[0mfloat\u001b[0m\u001b[0;34m(\u001b[0m\u001b[0mdata\u001b[0m\u001b[0;34m[\u001b[0m\u001b[0;34m'Bid'\u001b[0m\u001b[0;34m]\u001b[0m\u001b[0;34m[\u001b[0m\u001b[0;36m0\u001b[0m\u001b[0;34m]\u001b[0m\u001b[0;34m[\u001b[0m\u001b[0;36m0\u001b[0m\u001b[0;34m]\u001b[0m\u001b[0;34m)\u001b[0m\u001b[0;34m\u001b[0m\u001b[0;34m\u001b[0m\u001b[0m\n\u001b[0m\u001b[1;32m     15\u001b[0m     \u001b[0mbid_quantity\u001b[0m \u001b[0;34m=\u001b[0m \u001b[0mfloat\u001b[0m\u001b[0;34m(\u001b[0m\u001b[0mdata\u001b[0m\u001b[0;34m[\u001b[0m\u001b[0;34m'Bid_Quantity'\u001b[0m\u001b[0;34m]\u001b[0m\u001b[0;34m[\u001b[0m\u001b[0;36m0\u001b[0m\u001b[0;34m]\u001b[0m\u001b[0;34m[\u001b[0m\u001b[0;36m1\u001b[0m\u001b[0;34m]\u001b[0m\u001b[0;34m)\u001b[0m\u001b[0;34m\u001b[0m\u001b[0;34m\u001b[0m\u001b[0m\n\u001b[1;32m     16\u001b[0m     \u001b[0mask\u001b[0m \u001b[0;34m=\u001b[0m \u001b[0mfloat\u001b[0m\u001b[0;34m(\u001b[0m\u001b[0mdata\u001b[0m\u001b[0;34m[\u001b[0m\u001b[0;34m'Ask'\u001b[0m\u001b[0;34m]\u001b[0m\u001b[0;34m[\u001b[0m\u001b[0;36m0\u001b[0m\u001b[0;34m]\u001b[0m\u001b[0;34m[\u001b[0m\u001b[0;36m0\u001b[0m\u001b[0;34m]\u001b[0m\u001b[0;34m)\u001b[0m\u001b[0;34m\u001b[0m\u001b[0;34m\u001b[0m\u001b[0m\n",
            "\u001b[0;31mKeyError\u001b[0m: 'Bid'"
          ]
        }
      ],
      "source": [
        "import requests\n",
        "import pandas as pd\n",
        "from datetime import datetime\n",
        "\n",
        "def get_order_book():\n",
        "    url = 'https://api.binance.com/api/v3/depth'\n",
        "    params = {\n",
        "        'symbol': 'BTCUSDT',\n",
        "        'limit': 1\n",
        "    }\n",
        "    response = requests.get(url, params=params)\n",
        "    data = response.json()\n",
        "    print(data)  # Print the JSON response\n",
        "    bid = float(data['Bid'][0][0])\n",
        "    bid_quantity = float(data['Bid_Quantity'][0][1])\n",
        "    ask = float(data['Ask'][0][0])\n",
        "    ask_quantity = float(data['Ask_Quantity'][0][1])\n",
        "    timestamp = datetime.fromtimestamp(int(data['Timestamp']) / 1000)\n",
        "    return pd.DataFrame({'Bid': [bid], 'Bid_Quantity': [bid_quantity], 'Ask': [ask], 'Ask_Quantity': [ask_quantity], 'Timestamp': [timestamp]})\n",
        "\n",
        "order_book_data = get_order_book()\n"
      ]
    },
    {
      "source": [
        "import requests\n",
        "import pandas as pd\n",
        "from datetime import datetime\n",
        "\n",
        "def get_order_book():\n",
        "    url = 'https://min-api.cryptocompare.com/data/price'  # Updated API endpoint\n",
        "    params = {\n",
        "        'fsym': 'BTC',\n",
        "        'tsyms': 'USD'  # Updated parameter name to 'tsyms'\n",
        "    }\n",
        "    response = requests.get(url, params=params)\n",
        "    data = response.json()\n",
        "    print(data)  # Print the JSON response\n",
        "\n",
        "    # Check if the response contains price data\n",
        "    if 'USD' in data:\n",
        "        # Access data\n",
        "        price = float(data['USD'])\n",
        "\n",
        "        # Get current timestamp\n",
        "        timestamp = datetime.now()\n",
        "\n",
        "        # You can create a simple DataFrame with the price and timestamp\n",
        "        return pd.DataFrame({'Price': [price], 'Timestamp': [timestamp]})\n",
        "    else:\n",
        "        # Handle the case where price data is not found\n",
        "        print(\"Error: Unexpected API response format\")\n",
        "        return pd.DataFrame()  # Return an empty DataFrame in case of error\n",
        "\n",
        "order_book_data = get_order_book()\n",
        "print(order_book_data)"
      ],
      "cell_type": "code",
      "metadata": {
        "colab": {
          "base_uri": "https://localhost:8080/"
        },
        "id": "7FOjzuh164YY",
        "outputId": "b3bed7c9-3991-461c-91b2-95143cd89d06"
      },
      "execution_count": 12,
      "outputs": [
        {
          "output_type": "stream",
          "name": "stdout",
          "text": [
            "{'USD': 90581.21}\n",
            "      Price                  Timestamp\n",
            "0  90581.21 2024-11-13 23:47:06.298254\n"
          ]
        }
      ]
    },
    {
      "source": [
        "\n",
        "import cryptocompare\n",
        "import pandas as pd\n",
        "from datetime import datetime, timedelta\n",
        "\n",
        "def get_historical_price_data():\n",
        "    # Get the current timestamp\n",
        "    end_time = datetime.now()\n",
        "\n",
        "    # Calculate the start time (30 days ago)\n",
        "    start_time = end_time - timedelta(days=30)\n",
        "\n",
        "    # Convert timestamps to Unix timestamps\n",
        "    end_timestamp = int(end_time.timestamp())\n",
        "    start_timestamp = int(start_time.timestamp())\n",
        "\n",
        "    # Get historical price data\n",
        "    price_data = cryptocompare.get_historical_price_day(\n",
        "        'ETH', 'USD', limit=30, toTs=end_timestamp, exchange='CCCAGG'\n",
        "    )\n",
        "\n",
        "    # Create a Pandas DataFrame\n",
        "    df = pd.DataFrame(price_data)\n",
        "\n",
        "    # Convert 'time' column to datetime objects\n",
        "    df['time'] = pd.to_datetime(df['time'], unit='s')\n",
        "\n",
        "    # Rename columns to match your desired format\n",
        "    df = df.rename(\n",
        "        columns={\n",
        "            'time': 'Timestamp',\n",
        "            'high': 'High',\n",
        "            'low': 'Low',\n",
        "            'open': 'Open',\n",
        "            'volumefrom': 'VolumeFrom',\n",
        "            'volumeto': 'VolumeTo',\n",
        "            'close': 'Close',\n",
        "        }\n",
        "    )\n",
        "\n",
        "    return df\n",
        "\n",
        "# Get historical price data\n",
        "historical_data = get_historical_price_data()\n",
        "historical_data = historical_data.drop(['conversionType', 'conversionSymbol'], axis=1)\n",
        "\n",
        "# Print the DataFrame\n",
        "print(historical_data.sort_values(by='Timestamp', ascending=False))"
      ],
      "cell_type": "code",
      "metadata": {
        "colab": {
          "base_uri": "https://localhost:8080/"
        },
        "id": "SxDZqc2d7WHb",
        "outputId": "501fc7fb-a4db-4832-8fb3-1b4aff50c174"
      },
      "execution_count": 19,
      "outputs": [
        {
          "output_type": "stream",
          "name": "stdout",
          "text": [
            "    Timestamp     High      Low     Open  VolumeFrom      VolumeTo    Close\n",
            "30 2024-11-14  3200.24  3184.15  3191.32     8353.95  2.667102e+07  3195.16\n",
            "29 2024-11-13  3339.13  3121.10  3247.18  1694646.90  5.472868e+09  3191.32\n",
            "28 2024-11-12  3446.83  3210.71  3375.79  1572933.12  5.174595e+09  3247.18\n",
            "27 2024-11-11  3391.44  3108.06  3186.06  1371655.28  4.474445e+09  3375.79\n",
            "26 2024-11-10  3251.73  3070.75  3127.99  1066371.96  3.390613e+09  3186.06\n",
            "25 2024-11-09  3158.45  2957.02  2963.98   674864.79  2.054534e+09  3127.99\n",
            "24 2024-11-08  2985.38  2889.33  2897.52   864685.78  2.534386e+09  2963.98\n",
            "23 2024-11-07  2920.14  2701.67  2724.61   983985.53  2.796153e+09  2897.52\n",
            "22 2024-11-06  2746.79  2420.17  2422.40   983307.18  2.568249e+09  2724.61\n",
            "21 2024-11-05  2479.40  2379.36  2396.87   541608.48  1.318124e+09  2422.40\n",
            "20 2024-11-04  2489.68  2356.45  2456.66   488064.97  1.188224e+09  2396.87\n",
            "19 2024-11-03  2495.76  2410.21  2493.41   456155.00  1.116194e+09  2456.66\n",
            "18 2024-11-02  2522.44  2470.10  2510.39   197860.22  4.932095e+08  2493.41\n",
            "17 2024-11-01  2585.36  2465.23  2515.04   540363.93  1.361184e+09  2510.39\n",
            "16 2024-10-31  2668.16  2500.37  2658.35   525510.51  1.356039e+09  2515.04\n",
            "15 2024-10-30  2721.17  2599.62  2638.16   598055.65  1.596174e+09  2658.35\n",
            "14 2024-10-29  2681.49  2559.73  2565.82   695762.27  1.827636e+09  2638.16\n",
            "13 2024-10-28  2587.97  2468.99  2505.21   621030.44  1.563896e+09  2565.82\n",
            "12 2024-10-27  2524.68  2460.86  2479.70   250034.47  6.227336e+08  2505.21\n",
            "11 2024-10-26  2504.68  2426.19  2436.20   374032.46  9.198777e+08  2479.70\n",
            "10 2024-10-25  2564.77  2379.92  2534.54   793068.69  1.979249e+09  2436.20\n",
            "9  2024-10-24  2559.63  2505.09  2522.33   520686.94  1.317937e+09  2534.54\n",
            "8  2024-10-23  2626.44  2447.63  2621.31   554160.28  1.409948e+09  2522.33\n",
            "7  2024-10-22  2670.69  2605.16  2665.90   468082.26  1.231575e+09  2621.31\n",
            "6  2024-10-21  2768.44  2653.51  2746.40   485361.67  1.309809e+09  2665.90\n",
            "5  2024-10-20  2758.61  2635.50  2648.12   336813.48  9.088734e+08  2746.40\n",
            "4  2024-10-19  2663.13  2631.03  2642.22   157675.14  4.169076e+08  2648.12\n",
            "3  2024-10-18  2676.03  2595.49  2605.10   449053.78  1.183526e+09  2642.22\n",
            "2  2024-10-17  2647.64  2574.89  2610.95   439222.83  1.147143e+09  2605.10\n",
            "1  2024-10-16  2647.00  2588.65  2606.92   471282.51  1.233604e+09  2610.95\n",
            "0  2024-10-15  2687.32  2536.79  2629.02   701243.67  1.823525e+09  2606.92\n"
          ]
        }
      ]
    }
  ]
}