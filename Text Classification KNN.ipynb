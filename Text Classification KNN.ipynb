{
  "nbformat": 4,
  "nbformat_minor": 0,
  "metadata": {
    "colab": {
      "provenance": [],
      "authorship_tag": "ABX9TyOHHJWwHbf4Tz9rbuAVUcKn",
      "include_colab_link": true
    },
    "kernelspec": {
      "name": "python3",
      "display_name": "Python 3"
    },
    "language_info": {
      "name": "python"
    }
  },
  "cells": [
    {
      "cell_type": "markdown",
      "metadata": {
        "id": "view-in-github",
        "colab_type": "text"
      },
      "source": [
        "<a href=\"https://colab.research.google.com/github/An210/ML/blob/main/Text%20Classification%20KNN.ipynb\" target=\"_parent\"><img src=\"https://colab.research.google.com/assets/colab-badge.svg\" alt=\"Open In Colab\"/></a>"
      ]
    },
    {
      "cell_type": "markdown",
      "source": [
        "# Ticket Assignment - KNN model training\n"
      ],
      "metadata": {
        "id": "tgSgoZtzwBdx"
      }
    },
    {
      "cell_type": "code",
      "execution_count": 2,
      "metadata": {
        "colab": {
          "base_uri": "https://localhost:8080/"
        },
        "id": "VVwWMgmkvU_3",
        "outputId": "36c2bdde-c254-4613-958b-4bc405c1e3c9"
      },
      "outputs": [
        {
          "output_type": "stream",
          "name": "stdout",
          "text": [
            "Requirement already satisfied: nltk in /usr/local/lib/python3.10/dist-packages (3.9.1)\n",
            "Requirement already satisfied: click in /usr/local/lib/python3.10/dist-packages (from nltk) (8.1.7)\n",
            "Requirement already satisfied: joblib in /usr/local/lib/python3.10/dist-packages (from nltk) (1.4.2)\n",
            "Requirement already satisfied: regex>=2021.8.3 in /usr/local/lib/python3.10/dist-packages (from nltk) (2024.9.11)\n",
            "Requirement already satisfied: tqdm in /usr/local/lib/python3.10/dist-packages (from nltk) (4.66.6)\n"
          ]
        },
        {
          "output_type": "stream",
          "name": "stderr",
          "text": [
            "[nltk_data] Downloading package wordnet to /root/nltk_data...\n",
            "[nltk_data]   Package wordnet is already up-to-date!\n",
            "[nltk_data] Downloading package punkt to /root/nltk_data...\n",
            "[nltk_data]   Package punkt is already up-to-date!\n",
            "[nltk_data] Downloading package averaged_perceptron_tagger to\n",
            "[nltk_data]     /root/nltk_data...\n",
            "[nltk_data]   Package averaged_perceptron_tagger is already up-to-\n",
            "[nltk_data]       date!\n",
            "[nltk_data] Downloading package averaged_perceptron_tagger_eng to\n",
            "[nltk_data]     /root/nltk_data...\n",
            "[nltk_data]   Package averaged_perceptron_tagger_eng is already up-to-\n",
            "[nltk_data]       date!\n",
            "[nltk_data] Downloading package punkt_tab to /root/nltk_data...\n",
            "[nltk_data]   Package punkt_tab is already up-to-date!\n"
          ]
        },
        {
          "output_type": "stream",
          "name": "stdout",
          "text": [
            "Fitting 5 folds for each of 24 candidates, totalling 120 fits\n",
            "Best Parameters: {'metric': 'euclidean', 'n_neighbors': 3, 'weights': 'uniform'}\n",
            "Best Cross-Validation Score: 0.9428571428571428\n",
            "Test Set Accuracy: 0.8888888888888888\n",
            "Test data point: [0.         0.         0.         0.61245283 0.         0.\n",
            " 0.         0.         0.         0.         0.         0.\n",
            " 0.         0.         0.         0.         0.         0.\n",
            " 0.         0.         0.         0.         0.79050714 0.\n",
            " 0.         0.         0.         0.         0.         0.\n",
            " 0.         0.         0.         0.         0.         0.        ]\n",
            "True label: IT\n",
            "Predicted label: D&A\n",
            "\n",
            "Test data point: [0. 0. 0. 1. 0. 0. 0. 0. 0. 0. 0. 0. 0. 0. 0. 0. 0. 0. 0. 0. 0. 0. 0. 0.\n",
            " 0. 0. 0. 0. 0. 0. 0. 0. 0. 0. 0. 0.]\n",
            "True label: D&A\n",
            "Predicted label: D&A\n",
            "\n",
            "Test data point: [0.         0.         0.         0.         0.         0.\n",
            " 0.79284209 0.         0.         0.         0.         0.\n",
            " 0.         0.         0.         0.         0.         0.\n",
            " 0.         0.         0.         0.         0.         0.\n",
            " 0.         0.         0.60942713 0.         0.         0.\n",
            " 0.         0.         0.         0.         0.         0.        ]\n",
            "True label: D&A\n",
            "Predicted label: D&A\n",
            "\n",
            "Test data point: [0.55039089 0.         0.         0.         0.         0.\n",
            " 0.         0.         0.         0.         0.8349071  0.\n",
            " 0.         0.         0.         0.         0.         0.\n",
            " 0.         0.         0.         0.         0.         0.\n",
            " 0.         0.         0.         0.         0.         0.\n",
            " 0.         0.         0.         0.         0.         0.        ]\n",
            "True label: IT\n",
            "Predicted label: IT\n",
            "\n",
            "Test data point: [0. 0. 0. 0. 0. 0. 0. 0. 0. 0. 0. 0. 0. 0. 0. 0. 0. 0. 0. 0. 0. 0. 0. 0.\n",
            " 0. 0. 0. 0. 0. 0. 0. 0. 0. 1. 0. 0.]\n",
            "True label: IT\n",
            "Predicted label: IT\n",
            "\n",
            "Test data point: [0.         0.         0.         0.         0.         0.\n",
            " 0.         0.         0.         0.         0.         0.\n",
            " 0.         0.         0.70710678 0.         0.         0.\n",
            " 0.         0.         0.         0.         0.         0.\n",
            " 0.         0.70710678 0.         0.         0.         0.\n",
            " 0.         0.         0.         0.         0.         0.        ]\n",
            "True label: D&A\n",
            "Predicted label: D&A\n",
            "\n",
            "Test data point: [0.         0.         0.         0.         0.         0.\n",
            " 0.         0.         0.         0.         0.         0.\n",
            " 0.         0.         0.         0.         0.         0.\n",
            " 0.66088726 0.         0.         0.         0.         0.\n",
            " 0.         0.         0.         0.         0.         0.\n",
            " 0.         0.         0.45736604 0.         0.         0.59501625]\n",
            "True label: SharePoint\n",
            "Predicted label: SharePoint\n",
            "\n",
            "Test data point: [0.55039089 0.         0.         0.         0.         0.\n",
            " 0.         0.         0.8349071  0.         0.         0.\n",
            " 0.         0.         0.         0.         0.         0.\n",
            " 0.         0.         0.         0.         0.         0.\n",
            " 0.         0.         0.         0.         0.         0.\n",
            " 0.         0.         0.         0.         0.         0.        ]\n",
            "True label: IT\n",
            "Predicted label: IT\n",
            "\n",
            "Test data point: [0.55039089 0.         0.         0.         0.         0.\n",
            " 0.         0.         0.         0.         0.         0.\n",
            " 0.         0.         0.         0.8349071  0.         0.\n",
            " 0.         0.         0.         0.         0.         0.\n",
            " 0.         0.         0.         0.         0.         0.\n",
            " 0.         0.         0.         0.         0.         0.        ]\n",
            "True label: IT\n",
            "Predicted label: IT\n",
            "\n"
          ]
        },
        {
          "output_type": "stream",
          "name": "stderr",
          "text": [
            "/usr/local/lib/python3.10/dist-packages/sklearn/model_selection/_search.py:1103: UserWarning: One or more of the test scores are non-finite: [0.94285714 0.94285714 0.7952381  0.91428571 0.7952381  0.91428571\n",
            " 0.67142857 0.91428571        nan 0.91428571        nan 0.82857143\n",
            "        nan 0.82857143        nan 0.85238095 0.94285714 0.94285714\n",
            " 0.7952381  0.91428571 0.7952381  0.91428571 0.67142857 0.91428571]\n",
            "  warnings.warn(\n"
          ]
        }
      ],
      "source": [
        "!pip install nltk\n",
        "\n",
        "import pandas as pd\n",
        "import numpy as np\n",
        "from sklearn.model_selection import train_test_split, cross_val_score, GridSearchCV\n",
        "from sklearn.neighbors import KNeighborsClassifier\n",
        "from sklearn.metrics import accuracy_score\n",
        "from sklearn.feature_extraction.text import TfidfVectorizer\n",
        "import nltk\n",
        "from nltk.corpus import wordnet\n",
        "\n",
        "# Download required NLTK resources\n",
        "nltk.download('wordnet')\n",
        "nltk.download('punkt')\n",
        "nltk.download('averaged_perceptron_tagger')\n",
        "# The missing download:\n",
        "nltk.download('averaged_perceptron_tagger_eng') # This line downloads the necessary data package\n",
        "nltk.download('punkt_tab') # This line is added to download the required data package\n",
        "\n",
        "def augment_text(text, num_aug=1):\n",
        "    \"\"\"Augments text using synonym replacement.\"\"\"\n",
        "    augmented_texts = [text]  # Start with original text\n",
        "    for _ in range(num_aug):\n",
        "        tokens = nltk.word_tokenize(text)\n",
        "        pos_tags = nltk.pos_tag(tokens)\n",
        "\n",
        "        new_tokens = []\n",
        "        for token, pos_tag in pos_tags:\n",
        "            synonyms = []\n",
        "            for syn in wordnet.synsets(token):\n",
        "                for lemma in syn.lemmas():\n",
        "                    synonyms.append(lemma.name())\n",
        "\n",
        "            if synonyms and pos_tag.startswith(('N', 'V', 'J', 'R')):  # Augment nouns, verbs, adjectives, adverbs\n",
        "                new_token = np.random.choice(synonyms, 1)[0]\n",
        "            else:\n",
        "                new_token = token\n",
        "\n",
        "            new_tokens.append(new_token)\n",
        "\n",
        "        augmented_texts.append(\" \".join(new_tokens))\n",
        "\n",
        "    return augmented_texts\n",
        "\n",
        "# Read the Excel file into a pandas DataFrame\n",
        "df = pd.read_csv(\"/content/Train.csv\")\n",
        "\n",
        "# Extract the text data and labels from the DataFrame\n",
        "text_data = df[\"Data\"].tolist()\n",
        "labels = df[\"Label\"].tolist()\n",
        "\n",
        "# Data Augmentation\n",
        "augmented_text_data = []\n",
        "augmented_labels = []\n",
        "for text, label in zip(text_data, labels):\n",
        "    augmented_texts = augment_text(text, num_aug=5)  # Generate 2 augmented texts per original text\n",
        "    augmented_text_data.extend(augmented_texts)\n",
        "    augmented_labels.extend([label] * len(augmented_texts))\n",
        "\n",
        "# 1. TF-IDF Feature Extraction\n",
        "vectorizer = TfidfVectorizer()\n",
        "X = vectorizer.fit_transform(augmented_text_data)\n",
        "X = X.toarray()\n",
        "\n",
        "X = np.nan_to_num(X)  # Replace NaN and infinite values with finite numbers\n",
        "\n",
        "# 2. Split the data into training and testing sets\n",
        "X_train, X_test, y_train, y_test = train_test_split(\n",
        "    X, augmented_labels, test_size=0.2, random_state=42\n",
        ")\n",
        "\n",
        "# 3. Perform GridSearchCV for KNN Hyperparameter Tuning\n",
        "param_grid = {\n",
        "    'n_neighbors': [3, 5, 7, 9],  # Different values for k\n",
        "    'weights': ['uniform', 'distance'],  # Weighting schemes\n",
        "    'metric': ['euclidean', 'manhattan', 'minkowski']  # Distance metrics\n",
        "}\n",
        "\n",
        "grid_search = GridSearchCV(\n",
        "    estimator=KNeighborsClassifier(),\n",
        "    param_grid=param_grid,\n",
        "    scoring='accuracy',\n",
        "    cv=5,  # 5-fold cross-validation\n",
        "    verbose=1,\n",
        "    n_jobs=-1\n",
        ")\n",
        "\n",
        "# Fit GridSearchCV\n",
        "grid_search.fit(X_train, y_train)\n",
        "\n",
        "# Best parameters from GridSearch\n",
        "print(\"Best Parameters:\", grid_search.best_params_)\n",
        "print(\"Best Cross-Validation Score:\", grid_search.best_score_)\n",
        "\n",
        "# 4. Train the optimized KNN model\n",
        "best_knn_classifier = grid_search.best_estimator_\n",
        "best_knn_classifier.fit(X_train, y_train)\n",
        "\n",
        "# Evaluate the model\n",
        "y_pred = best_knn_classifier.predict(X_test)\n",
        "accuracy = accuracy_score(y_test, y_pred)\n",
        "print(\"Test Set Accuracy:\", accuracy)\n",
        "\n",
        "for i in range(len(X_test)):\n",
        "    print(\"Test data point:\", X_test[i])\n",
        "    print(\"True label:\", y_test[i])\n",
        "    print(\"Predicted label:\", y_pred[i])\n",
        "    print()\n"
      ]
    },
    {
      "cell_type": "markdown",
      "source": [
        "# Test Case"
      ],
      "metadata": {
        "id": "XzJtrqZFwSlk"
      }
    },
    {
      "cell_type": "code",
      "source": [
        "def predict_new_data(new_data, vectorizer, model):\n",
        "    \"\"\"Predicts labels for new data using the trained model.\n",
        "\n",
        "    Args:\n",
        "        new_data (list): A list of text strings representing the new data.\n",
        "        vectorizer (TfidfVectorizer): The trained TF-IDF vectorizer.\n",
        "        model (KNeighborsClassifier): The trained KNN model.\n",
        "\n",
        "    Returns:\n",
        "        list: The predicted labels for the new data.\n",
        "    \"\"\"\n",
        "    # 1. Transform new data using the trained vectorizer\n",
        "    new_data_tfidf = vectorizer.transform(new_data)\n",
        "\n",
        "    # 2. Make predictions using the trained model\n",
        "    predictions = model.predict(new_data_tfidf)\n",
        "\n",
        "    return predictions\n",
        "\n",
        "\n",
        "# Example usage:\n",
        "new_data = [\n",
        "    \"This is a new server request\",\n",
        "    \"Need help with Power BI\",\n",
        "    \"Database issue\",\n",
        "]\n",
        "\n",
        "predicted_labels = predict_new_data(new_data, vectorizer, best_knn_classifier)\n",
        "\n",
        "print(\"New data:\", new_data)\n",
        "print(\"Predicted labels:\", predicted_labels)"
      ],
      "metadata": {
        "colab": {
          "base_uri": "https://localhost:8080/"
        },
        "id": "blCDSfspvleC",
        "outputId": "f575558b-bfae-4744-8356-d2f5ba46b86c"
      },
      "execution_count": 3,
      "outputs": [
        {
          "output_type": "stream",
          "name": "stdout",
          "text": [
            "New data: ['This is a new server request', 'Need help with Power BI', 'Database issue']\n",
            "Predicted labels: ['IT' 'D&A' 'IT']\n"
          ]
        }
      ]
    }
  ]
}